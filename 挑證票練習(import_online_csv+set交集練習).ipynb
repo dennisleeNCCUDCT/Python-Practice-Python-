{
  "nbformat": 4,
  "nbformat_minor": 0,
  "metadata": {
    "colab": {
      "name": "挑證票練習(import online csv+set交集練習).ipynb",
      "provenance": []
    },
    "kernelspec": {
      "name": "python3",
      "display_name": "Python 3"
    },
    "language_info": {
      "name": "python"
    }
  },
  "cells": [
    {
      "cell_type": "code",
      "metadata": {
        "id": "slZa_HMFUxAR"
      },
      "source": [
        "import pandas as pd\n"
      ],
      "execution_count": 10,
      "outputs": []
    },
    {
      "cell_type": "code",
      "metadata": {
        "id": "xjGR1N58WQP_"
      },
      "source": [
        "url=(\"https://www.twse.com.tw/exchangeReport/STOCK_DAY_ALL?response=open_data\")\n"
      ],
      "execution_count": 22,
      "outputs": []
    },
    {
      "cell_type": "code",
      "metadata": {
        "id": "_QTUQXSYWR4W"
      },
      "source": [
        "df = pd.read_csv(url)\n"
      ],
      "execution_count": 25,
      "outputs": []
    },
    {
      "cell_type": "code",
      "metadata": {
        "id": "thOaStGWYhC6"
      },
      "source": [
        "all=df[\"證券名稱\"]"
      ],
      "execution_count": 26,
      "outputs": []
    },
    {
      "cell_type": "code",
      "metadata": {
        "id": "-qi73H06YqAf"
      },
      "source": [
        "import random"
      ],
      "execution_count": 27,
      "outputs": []
    },
    {
      "cell_type": "code",
      "metadata": {
        "id": "WFhKJUpEYtIH"
      },
      "source": [
        "strategy1=random.choices(all,k=100)\n",
        "strategy2=random.choices(all,k=150)"
      ],
      "execution_count": 36,
      "outputs": []
    },
    {
      "cell_type": "code",
      "metadata": {
        "colab": {
          "base_uri": "https://localhost:8080/"
        },
        "id": "GzyFq2ikZEIl",
        "outputId": "21aa66ab-3a3d-44bf-9b69-106e750fb156"
      },
      "source": [
        "strategy1"
      ],
      "execution_count": 37,
      "outputs": [
        {
          "output_type": "execute_result",
          "data": {
            "text/plain": [
              "['官田鋼',\n",
              " '台新全球AI',\n",
              " '台聚',\n",
              " '台南',\n",
              " '安集',\n",
              " '華固',\n",
              " '智易',\n",
              " '土銀富邦R1',\n",
              " '華孚',\n",
              " '日成-KY',\n",
              " '友訊',\n",
              " '新纖',\n",
              " '期元大S&P黃金正2',\n",
              " '瑞儀',\n",
              " '圓剛',\n",
              " '羅昇',\n",
              " '永昌中小300N',\n",
              " '和鑫',\n",
              " '柏承',\n",
              " '江申',\n",
              " '禾聯碩',\n",
              " '中鋼特',\n",
              " '巨騰-DR',\n",
              " '長興',\n",
              " '佳和',\n",
              " '訊連',\n",
              " '瑞利',\n",
              " '元大台商50',\n",
              " '亞泥',\n",
              " '興能高',\n",
              " '億光',\n",
              " '勝一',\n",
              " '大魯閣',\n",
              " '康普',\n",
              " '和碩',\n",
              " '達興材料',\n",
              " '浪凡',\n",
              " '國泰標普低波高息',\n",
              " '大億',\n",
              " '微星',\n",
              " '吉茂',\n",
              " '立德',\n",
              " '日馳',\n",
              " '元大美債20反1',\n",
              " '永豐臺灣加權',\n",
              " '群益證',\n",
              " '宏齊',\n",
              " '宏普',\n",
              " '地球',\n",
              " '全新',\n",
              " '中保科',\n",
              " '億麗',\n",
              " '鑫禾',\n",
              " '美吉吉-KY',\n",
              " '新鋼',\n",
              " '三洋實業',\n",
              " '長虹',\n",
              " '帝寶',\n",
              " '新光金',\n",
              " '世紀鋼',\n",
              " '佐登-KY',\n",
              " '裕日車',\n",
              " '安集',\n",
              " '力特',\n",
              " '宏普',\n",
              " '東訊',\n",
              " '富邦恒生國企',\n",
              " '統一證',\n",
              " '新鋼',\n",
              " '中櫃',\n",
              " '富邦臺灣優質高息',\n",
              " '晶華',\n",
              " '菱生',\n",
              " '宏益',\n",
              " '精英',\n",
              " '尼得科超眾',\n",
              " '土銀國泰R1',\n",
              " '和大',\n",
              " '錩新',\n",
              " '美隆電',\n",
              " '興農',\n",
              " '宏達電',\n",
              " '遠見',\n",
              " '友勁',\n",
              " '三福化',\n",
              " '東元',\n",
              " '陞泰',\n",
              " '和泰車',\n",
              " '期元大S&P日圓正2',\n",
              " '亞德客-KY',\n",
              " '新光金乙特',\n",
              " '富邦印度正2',\n",
              " '麗清',\n",
              " '同欣電',\n",
              " '三發地產',\n",
              " '恆大',\n",
              " '台新MSCI中國',\n",
              " '穎漢',\n",
              " '東科-KY',\n",
              " '中鼎']"
            ]
          },
          "metadata": {},
          "execution_count": 37
        }
      ]
    },
    {
      "cell_type": "code",
      "metadata": {
        "colab": {
          "base_uri": "https://localhost:8080/"
        },
        "id": "a1KdlsA0ZID8",
        "outputId": "39e66255-5907-45d7-9c11-a76fc301e4cb"
      },
      "source": [
        "strategy2"
      ],
      "execution_count": 38,
      "outputs": [
        {
          "output_type": "execute_result",
          "data": {
            "text/plain": [
              "['中租-KY甲特',\n",
              " '大立光',\n",
              " '台榮',\n",
              " '佳能',\n",
              " '業旺',\n",
              " '仲琦',\n",
              " '國泰台灣5G+',\n",
              " '耀登',\n",
              " '元大中型100',\n",
              " '兆豐新光R1',\n",
              " '建通',\n",
              " '中磊',\n",
              " '潤泰材',\n",
              " '如興',\n",
              " '奇鋐',\n",
              " '慶豐富',\n",
              " '科定',\n",
              " '元大特股高息N',\n",
              " '富邦日本反1',\n",
              " '強盛',\n",
              " '新興',\n",
              " '富邦上証+R',\n",
              " '成霖',\n",
              " '元大高股息',\n",
              " '春源',\n",
              " '新建',\n",
              " '康舒',\n",
              " '廣豐',\n",
              " '聯昌',\n",
              " '基泰',\n",
              " '騰輝電子-KY',\n",
              " '興勤',\n",
              " '高雄銀甲特',\n",
              " '元大未來關鍵科技',\n",
              " '晶豪科',\n",
              " '敦泰',\n",
              " '台郡',\n",
              " '六福',\n",
              " '中鼎',\n",
              " '阿瘦',\n",
              " '技嘉',\n",
              " '兆豐電菁英30N',\n",
              " '燁興',\n",
              " '國泰日經225+U',\n",
              " '正隆',\n",
              " '傳奇',\n",
              " '福興',\n",
              " '麗嬰房',\n",
              " '和碩',\n",
              " '健策',\n",
              " '錩泰',\n",
              " '期街口道瓊銅',\n",
              " '興能高',\n",
              " '龍邦',\n",
              " '海悅甲特',\n",
              " '中鋼構',\n",
              " '力成',\n",
              " '車王電',\n",
              " '裕民',\n",
              " '錸德',\n",
              " '華經',\n",
              " '富邦媒',\n",
              " '和康生',\n",
              " '南茂',\n",
              " '台南-KY',\n",
              " '皇鼎',\n",
              " '南亞科',\n",
              " '全宇生技-KY',\n",
              " '大成',\n",
              " '華泰',\n",
              " '欣高',\n",
              " '南緯',\n",
              " '和潤企業',\n",
              " '富邦印度正2',\n",
              " '訊舟',\n",
              " '詮欣',\n",
              " '富邦摩台',\n",
              " '晶彩科',\n",
              " '維熹',\n",
              " '潤泰新',\n",
              " '三地開發',\n",
              " '利奇',\n",
              " '華東',\n",
              " '東哥遊艇',\n",
              " '慧洋-KY',\n",
              " '中信中國高股息',\n",
              " '嘉基',\n",
              " '至上',\n",
              " '康舒',\n",
              " '南染',\n",
              " '華興',\n",
              " '台新全球AI',\n",
              " '愛山林',\n",
              " '中鋼',\n",
              " '第一銅',\n",
              " '強信-KY',\n",
              " '鎰勝',\n",
              " '生達',\n",
              " '中環',\n",
              " '台積電',\n",
              " '一零四',\n",
              " '富邦恒生國企反1',\n",
              " '勤美',\n",
              " '矽統',\n",
              " '華碩',\n",
              " '三商電',\n",
              " '建準',\n",
              " '堤維西',\n",
              " '所羅門',\n",
              " '中纖',\n",
              " '國泰日經225+U',\n",
              " '元大高股息',\n",
              " '勤美',\n",
              " '瑞儀',\n",
              " '辛耘',\n",
              " '銘旺科',\n",
              " '富邦蘋果正二N',\n",
              " '光鋐',\n",
              " '和碩',\n",
              " '高興昌',\n",
              " '中碳',\n",
              " '嘉泥',\n",
              " '台航',\n",
              " '大魯閣',\n",
              " '三發地產',\n",
              " '興泰',\n",
              " '興能高',\n",
              " '盛群',\n",
              " '國泰網路資安',\n",
              " '天仁',\n",
              " '欣陸',\n",
              " '味王',\n",
              " '天瀚',\n",
              " '南亞科',\n",
              " '研揚',\n",
              " '豐藝',\n",
              " '盛餘',\n",
              " '國泰中國A150',\n",
              " '萬企',\n",
              " '裕融甲特',\n",
              " '統一FANG+',\n",
              " '光聖',\n",
              " '中信中國高股息',\n",
              " '運錩',\n",
              " '泰豐',\n",
              " '國泰中國A50正2',\n",
              " '泰豐',\n",
              " '土銀富邦R1',\n",
              " '展碁國際',\n",
              " '大立光']"
            ]
          },
          "metadata": {},
          "execution_count": 38
        }
      ]
    },
    {
      "cell_type": "code",
      "metadata": {
        "colab": {
          "base_uri": "https://localhost:8080/"
        },
        "id": "1t01qnEmZTGu",
        "outputId": "669ba73a-1aa3-4e25-9e98-0232697c57a4"
      },
      "source": [
        "set(strategy1)&set(strategy2)"
      ],
      "execution_count": 39,
      "outputs": [
        {
          "output_type": "execute_result",
          "data": {
            "text/plain": [
              "{'三發地產', '中鼎', '台新全球AI', '和碩', '土銀富邦R1', '大魯閣', '富邦印度正2', '瑞儀', '興能高'}"
            ]
          },
          "metadata": {},
          "execution_count": 39
        }
      ]
    },
    {
      "cell_type": "code",
      "metadata": {
        "id": "a8zBfSirZXS-"
      },
      "source": [
        ""
      ],
      "execution_count": null,
      "outputs": []
    },
    {
      "cell_type": "code",
      "metadata": {
        "id": "R__wEN0oZXfx"
      },
      "source": [
        ""
      ],
      "execution_count": null,
      "outputs": []
    }
  ]
}