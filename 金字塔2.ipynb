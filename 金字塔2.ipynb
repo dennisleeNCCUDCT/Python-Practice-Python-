{
  "nbformat": 4,
  "nbformat_minor": 0,
  "metadata": {
    "colab": {
      "name": "金字塔2.ipynb",
      "provenance": []
    },
    "kernelspec": {
      "name": "python3",
      "display_name": "Python 3"
    },
    "language_info": {
      "name": "python"
    }
  },
  "cells": [
    {
      "cell_type": "code",
      "metadata": {
        "id": "zpPh8gKXSQkX"
      },
      "source": [
        "def pyramid(variable1,variable2):\n",
        "  for i in range(variable1):\n",
        "   print('*'*variable1)\n",
        "   variable2=variable2-1\n",
        "   variable1=variable1-1"
      ],
      "execution_count": 18,
      "outputs": []
    },
    {
      "cell_type": "code",
      "metadata": {
        "colab": {
          "base_uri": "https://localhost:8080/"
        },
        "id": "hPSCB3-jSm7R",
        "outputId": "a86c6a18-6644-443a-eee4-d9e4d03ddece"
      },
      "source": [
        "pyramid(5,5)"
      ],
      "execution_count": 19,
      "outputs": [
        {
          "output_type": "stream",
          "name": "stdout",
          "text": [
            "*****\n",
            "****\n",
            "***\n",
            "**\n",
            "*\n"
          ]
        }
      ]
    }
  ]
}