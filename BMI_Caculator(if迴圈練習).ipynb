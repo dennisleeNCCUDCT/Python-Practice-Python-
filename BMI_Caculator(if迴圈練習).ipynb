{
  "nbformat": 4,
  "nbformat_minor": 0,
  "metadata": {
    "colab": {
      "name": "BMI Caculator(if迴圈練習).ipynb",
      "provenance": []
    },
    "kernelspec": {
      "name": "python3",
      "display_name": "Python 3"
    },
    "language_info": {
      "name": "python"
    }
  },
  "cells": [
    {
      "cell_type": "markdown",
      "metadata": {
        "id": "gpehbIfZarqp"
      },
      "source": [
        "bmi=體重/身高（米）平方"
      ]
    },
    {
      "cell_type": "code",
      "metadata": {
        "colab": {
          "base_uri": "https://localhost:8080/"
        },
        "id": "-ZobNYOMak9l",
        "outputId": "a4038e48-0a28-4b53-c8b6-b2537632e0f3"
      },
      "source": [
        "height=input(\"輸入身高(米)\")"
      ],
      "execution_count": 3,
      "outputs": [
        {
          "name": "stdout",
          "output_type": "stream",
          "text": [
            "輸入身高(米)1.8\n"
          ]
        }
      ]
    },
    {
      "cell_type": "code",
      "metadata": {
        "colab": {
          "base_uri": "https://localhost:8080/"
        },
        "id": "Xp_DTrSMa0ME",
        "outputId": "7c06a9b8-d2f9-4e40-da1e-065a0bc83aa4"
      },
      "source": [
        "weight=input(\"輸入體重（公斤）\")"
      ],
      "execution_count": 4,
      "outputs": [
        {
          "name": "stdout",
          "output_type": "stream",
          "text": [
            "輸入體重（公斤）65\n"
          ]
        }
      ]
    },
    {
      "cell_type": "code",
      "metadata": {
        "colab": {
          "base_uri": "https://localhost:8080/"
        },
        "id": "Yba7L93Pa54_",
        "outputId": "77654f90-9e45-46f8-b8fc-c82d924c07b7"
      },
      "source": [
        "\n",
        "w=float(weight)\n",
        "h=float(height)\n",
        "\n",
        " \n",
        "bmi=w/(h*h)\n",
        "bmi\n"
      ],
      "execution_count": 18,
      "outputs": [
        {
          "output_type": "stream",
          "name": "stdout",
          "text": [
            "65.0\n"
          ]
        },
        {
          "output_type": "execute_result",
          "data": {
            "text/plain": [
              "20.061728395061728"
            ]
          },
          "metadata": {},
          "execution_count": 18
        }
      ]
    },
    {
      "cell_type": "markdown",
      "metadata": {
        "id": "IDrZCrVQc8B9"
      },
      "source": [
        "if 跟 else的首行，要加冒號\n"
      ]
    },
    {
      "cell_type": "code",
      "metadata": {
        "colab": {
          "base_uri": "https://localhost:8080/"
        },
        "id": "wsbwMoKLcWOj",
        "outputId": "736c5ca2-678f-4108-826c-5d4b4bea706e"
      },
      "source": [
        "if bmi<18.5:\n",
        "  print(\"light\")\n",
        "elif bmi>=24:\n",
        "  print(\"over weight\")\n",
        "\n",
        "elif 18.5<=bmi<24:\n",
        "  print(\"medium\")\n",
        "  #或是寫成\n",
        "else:\n",
        "  print(\"medium\")"
      ],
      "execution_count": 29,
      "outputs": [
        {
          "output_type": "stream",
          "name": "stdout",
          "text": [
            "medium\n"
          ]
        }
      ]
    }
  ]
}