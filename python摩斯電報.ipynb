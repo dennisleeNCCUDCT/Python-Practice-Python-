{
  "nbformat": 4,
  "nbformat_minor": 0,
  "metadata": {
    "colab": {
      "name": "python摩斯電報.ipynb",
      "provenance": []
    },
    "kernelspec": {
      "name": "python3",
      "display_name": "Python 3"
    },
    "language_info": {
      "name": "python"
    }
  },
  "cells": [
    {
      "cell_type": "code",
      "metadata": {
        "id": "w7toYUq4EO6x"
      },
      "source": [
        "CODE= {\n",
        "    'A':'.-',     'B':'-...',    'C':'-.-.',\n",
        "    'D':'-..',    'E':'.',        'F':'..-.',\n",
        "    'G':'--.',    'H':'....',     'I':'..',\n",
        "    'J':'.---',   'K':'-.-',       'L':'.-..',\n",
        "    'M':'--',     'N':'-.',       'O':'---',\n",
        "    'P':'.--.',   'Q':'--.-',     'R':'.-.',\n",
        "    'S':'...',    'T':'-',        'U':'..-',\n",
        "    'V':'...-',   'W':'.--',      'X':'-..-',\n",
        "    'Y':'-.--',   'Z':'--..',\n",
        "    '0':'-----',  '1':'.----',    '2':'..---',\n",
        "    '3':'...--',  '4':'...-',     '5':'.....',\n",
        "    '6':'-....',  '7':'--...',    '8':'---..',\n",
        "    '9':'----.',  ' ':'B'\n",
        "\n",
        "\n",
        "}"
      ],
      "execution_count": 11,
      "outputs": []
    },
    {
      "cell_type": "code",
      "metadata": {
        "colab": {
          "base_uri": "https://localhost:8080/"
        },
        "id": "FmLpXJeCG1WV",
        "outputId": "745899f0-cc6a-4eb3-e43a-ada0c634d728"
      },
      "source": [
        "MESSAGE=input('type english here:')"
      ],
      "execution_count": 12,
      "outputs": [
        {
          "name": "stdout",
          "output_type": "stream",
          "text": [
            "type english here:TYPE HERE\n"
          ]
        }
      ]
    },
    {
      "cell_type": "code",
      "metadata": {
        "colab": {
          "base_uri": "https://localhost:8080/"
        },
        "id": "AslG1TTPHFKK",
        "outputId": "e10485a6-1010-4cfc-e856-f39cdae1f65d"
      },
      "source": [
        "for i in MESSAGE:\n",
        "  print(CODE[i])"
      ],
      "execution_count": 13,
      "outputs": [
        {
          "output_type": "stream",
          "name": "stdout",
          "text": [
            "-\n",
            "-.--\n",
            ".--.\n",
            ".\n",
            "B\n",
            "....\n",
            ".\n",
            ".-.\n",
            ".\n"
          ]
        }
      ]
    }
  ]
}