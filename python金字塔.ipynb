{
  "nbformat": 4,
  "nbformat_minor": 0,
  "metadata": {
    "colab": {
      "name": "python金字塔.ipynb",
      "provenance": []
    },
    "kernelspec": {
      "name": "python3",
      "display_name": "Python 3"
    },
    "language_info": {
      "name": "python"
    }
  },
  "cells": [
    {
      "cell_type": "code",
      "metadata": {
        "id": "uQzmpbh7lkDo"
      },
      "source": [
        ""
      ],
      "execution_count": null,
      "outputs": []
    },
    {
      "cell_type": "markdown",
      "metadata": {
        "id": "gYW5mT9rleiX"
      },
      "source": [
        "# ***1.正金字塔***\n"
      ]
    },
    {
      "cell_type": "code",
      "metadata": {
        "colab": {
          "base_uri": "https://localhost:8080/"
        },
        "id": "rHnzySitjZuL",
        "outputId": "3a10a102-746e-4c1d-8448-68f3c9b7701c"
      },
      "source": [
        "a=0\n",
        "for a in range(11):\n",
        " print(\" \"*(10-a)+\"*\"*(2*a+1))\n",
        " a=a+1"
      ],
      "execution_count": 15,
      "outputs": [
        {
          "output_type": "stream",
          "name": "stdout",
          "text": [
            "          *\n",
            "         ***\n",
            "        *****\n",
            "       *******\n",
            "      *********\n",
            "     ***********\n",
            "    *************\n",
            "   ***************\n",
            "  *****************\n",
            " *******************\n",
            "*********************\n"
          ]
        }
      ]
    },
    {
      "cell_type": "markdown",
      "metadata": {
        "id": "ymvtvdhIltPF"
      },
      "source": [
        "# ***2.左傾斜金字塔***"
      ]
    },
    {
      "cell_type": "code",
      "metadata": {
        "colab": {
          "base_uri": "https://localhost:8080/"
        },
        "id": "X80ao6SEll5a",
        "outputId": "14bc46cc-b2d5-4b38-f6b7-83b676b34b99"
      },
      "source": [
        "a=0\n",
        "for a in range(11):\n",
        " print(\"*\"*a)\n",
        " a=a+1"
      ],
      "execution_count": 16,
      "outputs": [
        {
          "output_type": "stream",
          "name": "stdout",
          "text": [
            "\n",
            "*\n",
            "**\n",
            "***\n",
            "****\n",
            "*****\n",
            "******\n",
            "*******\n",
            "********\n",
            "*********\n",
            "**********\n"
          ]
        }
      ]
    },
    {
      "cell_type": "markdown",
      "metadata": {
        "id": "2qfkpJ8el347"
      },
      "source": [
        "# ***3.右傾斜金字塔***\n"
      ]
    },
    {
      "cell_type": "code",
      "metadata": {
        "colab": {
          "base_uri": "https://localhost:8080/"
        },
        "id": "Ss0GJy8vlxUU",
        "outputId": "6b2f7ee2-7603-4b88-8fc9-062b57f733ab"
      },
      "source": [
        "a=0\n",
        "for a in range(11):\n",
        " print(\" \"*(10-a)+\"*\"*a)\n",
        " a=a+1"
      ],
      "execution_count": 18,
      "outputs": [
        {
          "output_type": "stream",
          "name": "stdout",
          "text": [
            "          \n",
            "         *\n",
            "        **\n",
            "       ***\n",
            "      ****\n",
            "     *****\n",
            "    ******\n",
            "   *******\n",
            "  ********\n",
            " *********\n",
            "**********\n"
          ]
        }
      ]
    },
    {
      "cell_type": "code",
      "metadata": {
        "colab": {
          "base_uri": "https://localhost:8080/"
        },
        "id": "32bTKS8Fl8xU",
        "outputId": "8c0238b0-cb40-408b-842d-058c67e72cee"
      },
      "source": [
        "a=0\n",
        "for a in range(11):\n",
        " print(\" \"*(10-a)+\"*\"*(2*a+1))\n",
        " a=a+1"
      ],
      "execution_count": 22,
      "outputs": [
        {
          "output_type": "stream",
          "name": "stdout",
          "text": [
            "          *\n",
            "         ***\n",
            "        *****\n",
            "       *******\n",
            "      *********\n",
            "     ***********\n",
            "    *************\n",
            "   ***************\n",
            "  *****************\n",
            " *******************\n",
            "*********************\n"
          ]
        }
      ]
    }
  ]
}